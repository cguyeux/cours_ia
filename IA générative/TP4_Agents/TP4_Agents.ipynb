{
 "cells": [
  {
   "cell_type": "markdown",
   "id": "068ff316-e795-4cb6-9ac6-4edd4437de66",
   "metadata": {
    "editable": true,
    "slideshow": {
     "slide_type": "slide"
    },
    "tags": []
   },
   "source": [
    "## Les agents"
   ]
  },
  {
   "cell_type": "markdown",
   "id": "a3f8c84e-b005-4dd3-a906-a49202986f80",
   "metadata": {
    "editable": true,
    "slideshow": {
     "slide_type": "subslide"
    },
    "tags": []
   },
   "source": [
    "Un agent est un système autonome alimenté par un modèle de langage (comme GPT-4) qui prend des décisions sur les actions à entreprendre en fonction des données d'entrée et des instructions programmées.\n",
    "\n",
    "Fonction :\n",
    "- Prise de décision : L'agent analyse les données d'entrée et utilise des algorithmes et des modèles pour décider quelle action entreprendre.\n",
    "- Exécution d'actions : L'agent peut effectuer diverses actions comme répondre à une question, rechercher des informations, ou interagir avec d'autres systèmes."
   ]
  },
  {
   "cell_type": "markdown",
   "id": "f6cce33f-8d83-4d9a-9af5-46e06c5526f6",
   "metadata": {
    "editable": true,
    "slideshow": {
     "slide_type": "subslide"
    },
    "tags": []
   },
   "source": [
    "Un \"agent\", c'est un LLM avec des \"outils\" :\n",
    " - recherche sur internet,\n",
    " - calculatrice,\n",
    " - interrogation de pdf (RAG),\n",
    " - outil fait maison\n",
    " - ...\n",
    "\n",
    "Le mieux est de faire des agents spécialisés, et de les orchestrer ensemble."
   ]
  },
  {
   "cell_type": "markdown",
   "id": "7c0fab8a-ede8-4811-bb30-4cfe0b73bafd",
   "metadata": {
    "editable": true,
    "slideshow": {
     "slide_type": "slide"
    },
    "tags": []
   },
   "source": [
    "### Des outils"
   ]
  },
  {
   "cell_type": "markdown",
   "id": "9b8355b7-335d-4132-9ee7-598a13f1acbb",
   "metadata": {
    "editable": true,
    "slideshow": {
     "slide_type": "subslide"
    },
    "tags": []
   },
   "source": [
    "#### Wikipedia"
   ]
  },
  {
   "cell_type": "code",
   "execution_count": null,
   "id": "aea0ea3e-c8fb-4da4-bb41-0ca8a623ff15",
   "metadata": {
    "editable": true,
    "slideshow": {
     "slide_type": "fragment"
    },
    "tags": []
   },
   "outputs": [],
   "source": [
    "#%pip install --upgrade --quiet  wikipedia\n",
    "from langchain.tools import WikipediaQueryRun\n",
    "from langchain_community.utilities import WikipediaAPIWrapper\n",
    "\n",
    "wikipedia = WikipediaQueryRun(api_wrapper=WikipediaAPIWrapper())\n",
    "wikipedia.run(\"Alan Turing\")"
   ]
  },
  {
   "cell_type": "markdown",
   "id": "66f9250e-68a5-43f5-bacd-01ee95a6ea2c",
   "metadata": {
    "editable": true,
    "slideshow": {
     "slide_type": "subslide"
    },
    "tags": []
   },
   "source": [
    "#### Tavili (recherche internet)"
   ]
  },
  {
   "cell_type": "code",
   "execution_count": null,
   "id": "7fd80876-c248-4d29-a73e-b361472ba727",
   "metadata": {
    "editable": true,
    "slideshow": {
     "slide_type": "fragment"
    },
    "tags": []
   },
   "outputs": [],
   "source": [
    "# pip install -qU langchain-tavily\n",
    "# Pour une clé d'API : https://www.tavily.com/\n",
    "from langchain_community.tools.tavily_search import TavilySearchResults\n",
    "\n",
    "import os\n",
    "os.environ[\"TAVILY_API_KEY\"] = \"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\"\n",
    "\n",
    "search = TavilySearchResults(max_results=2)\n",
    "search_results = search.invoke(\"Quel est le temps à Belfort ?\")\n",
    "print(search_results[0]['content'][:100])"
   ]
  },
  {
   "cell_type": "markdown",
   "id": "e996e910-9b21-41e6-ac8f-81dff60aa4f8",
   "metadata": {
    "editable": true,
    "slideshow": {
     "slide_type": "slide"
    },
    "tags": []
   },
   "source": [
    "### Agents LangChain"
   ]
  },
  {
   "cell_type": "markdown",
   "id": "f6996f99-d3bd-4903-879c-c16338141e43",
   "metadata": {
    "editable": true,
    "slideshow": {
     "slide_type": "subslide"
    },
    "tags": []
   },
   "source": [
    "#### Exécuteur d'agent (Agent Executor)"
   ]
  },
  {
   "cell_type": "markdown",
   "id": "75632036-6402-4c73-a35f-64989fce0a04",
   "metadata": {
    "editable": true,
    "slideshow": {
     "slide_type": "fragment"
    },
    "tags": []
   },
   "source": [
    "L'exécuteur d'agent est un composant ou un système qui orchestre et exécute les actions déterminées par l'agent.\n",
    "\n",
    "Fonction :\n",
    " - Gestion de l'exécution : Il reçoit les décisions de l'agent, exécute les actions correspondantes et gère la transition entre différentes étapes de l'exécution.\n",
    " - Traitement des résultats : Il collecte les résultats des actions exécutées et les transmet à l'agent pour de nouvelles décisions ou à l'utilisateur final.\n",
    "\n",
    "Exemple : Dans un système de recommandation, l'exécuteur d'agent pourrait orchestrer l'appel à différentes API pour recueillir les informations nécessaires (comme les préférences de l'utilisateur et les données sur les produits) et les combiner pour générer une recommandation."
   ]
  },
  {
   "cell_type": "markdown",
   "id": "423be8f8-8f9b-48c6-a031-698ac8d13ef8",
   "metadata": {
    "editable": true,
    "slideshow": {
     "slide_type": "subslide"
    },
    "tags": []
   },
   "source": [
    "#### Avec outil Tavily"
   ]
  },
  {
   "cell_type": "code",
   "execution_count": null,
   "id": "c599b022-cda1-41e3-944f-ac1718152a89",
   "metadata": {
    "editable": true,
    "scrolled": true,
    "slideshow": {
     "slide_type": "fragment"
    },
    "tags": []
   },
   "outputs": [],
   "source": [
    "from langchain import hub\n",
    "from langchain.agents import create_react_agent, AgentExecutor\n",
    "from langchain_core.messages import HumanMessage\n",
    "from langchain_community.tools.tavily_search import TavilySearchResults\n",
    "from langchain_mistralai.chat_models import ChatMistralAI\n",
    "\n",
    "search = TavilySearchResults(max_results=2)\n",
    "tools = [search]\n",
    "\n",
    "llm = ChatMistralAI(model=\"mistral-large-latest\", temperature=0)\n",
    "\n",
    "prompt = hub.pull(\"amalnuaimi/react-mistral\")\n",
    "agent = create_react_agent(llm, tools, prompt)\n",
    "agent_executor = AgentExecutor(agent=agent, tools=tools, verbose=True)\n",
    "\n",
    "response = agent_executor.invoke(\n",
    "    {\n",
    "        'input': \"Dois-je prendre un parapluie, sachant que je me rends aujourd'hui et demain à Belfort ?\",\n",
    "        'chat_history': []\n",
    "    })\n",
    "print(response['output'])"
   ]
  },
  {
   "cell_type": "code",
   "execution_count": null,
   "id": "d0593da3-5ab3-475e-adb9-f077fc50ab03",
   "metadata": {
    "editable": true,
    "scrolled": true,
    "slideshow": {
     "slide_type": "subslide"
    },
    "tags": []
   },
   "outputs": [],
   "source": [
    "#https://smith.langchain.com/hub\n",
    "prompt.pretty_print()"
   ]
  },
  {
   "cell_type": "code",
   "execution_count": null,
   "id": "1a201966-1ebe-48a7-9464-b086c0361740",
   "metadata": {
    "editable": true,
    "slideshow": {
     "slide_type": "subslide"
    },
    "tags": []
   },
   "outputs": [],
   "source": [
    "# Version OpenAI\n",
    "from langchain import hub\n",
    "from langchain.agents import create_react_agent, AgentExecutor\n",
    "from langchain_core.messages import HumanMessage\n",
    "from langchain_community.tools.tavily_search import TavilySearchResults\n",
    "from langchain_openai import ChatOpenAI\n",
    "\n",
    "search = TavilySearchResults(max_results=2)\n",
    "tools = [search]\n",
    "\n",
    "llm = ChatOpenAI(model_name=\"gpt-4.1\")\n",
    "\n",
    "prompt = hub.pull(\"hwchase17/react\")\n",
    "agent = create_react_agent(llm, tools, prompt)\n",
    "agent_executor = AgentExecutor(agent=agent, tools=tools, verbose=True)\n",
    "\n",
    "response = agent_executor.invoke(\n",
    "    {\n",
    "        'input': \"Dois-je prendre un parapluie, sachant que je me rends aujourd'hui et demain à Belfort ?\"\n",
    "    })\n",
    "print(response['output'])"
   ]
  },
  {
   "cell_type": "markdown",
   "id": "1d37196e-8e45-4dcc-b3f9-5fb91fbc52c6",
   "metadata": {
    "editable": true,
    "slideshow": {
     "slide_type": "subslide"
    },
    "tags": []
   },
   "source": [
    "#### Avec outil arXiv"
   ]
  },
  {
   "cell_type": "code",
   "execution_count": null,
   "id": "7d6c6254-6f0e-4bfd-bc77-46e078c6a6da",
   "metadata": {
    "editable": true,
    "slideshow": {
     "slide_type": "fragment"
    },
    "tags": []
   },
   "outputs": [],
   "source": [
    "# pip install arxiv\n",
    "from langchain import hub\n",
    "from langchain.agents import AgentExecutor, create_react_agent, load_tools\n",
    "from langchain_openai import ChatOpenAI\n",
    "from langchain_mistralai.chat_models import ChatMistralAI\n",
    "\n",
    "#llm = ChatOpenAI(temperature=0.0)\n",
    "llm = ChatMistralAI(model=\"mistral-large-latest\", temperature=0)\n",
    "tools = load_tools([\"arxiv\"])\n",
    "\n",
    "prompt = hub.pull(\"hwchase17/react\")\n",
    "\n",
    "agent = create_react_agent(llm, tools, prompt)\n",
    "agent_executor = AgentExecutor(agent=agent, tools=tools, verbose=True)\n",
    "\n",
    "agent_executor.invoke({\"input\": \"Résume l'article 1605.08386 en français\"})"
   ]
  },
  {
   "cell_type": "code",
   "execution_count": null,
   "id": "b151aecf-48ed-4042-9363-b812319db351",
   "metadata": {
    "editable": true,
    "slideshow": {
     "slide_type": "subslide"
    },
    "tags": []
   },
   "outputs": [],
   "source": [
    "prompt.pretty_print()"
   ]
  },
  {
   "cell_type": "code",
   "execution_count": null,
   "id": "79f045ba-f698-474b-b3eb-6186b55de946",
   "metadata": {
    "editable": true,
    "slideshow": {
     "slide_type": "subslide"
    },
    "tags": []
   },
   "outputs": [],
   "source": [
    "print(tools[0].name)\n",
    "print(tools[0].description)"
   ]
  },
  {
   "cell_type": "markdown",
   "id": "f8178e85-cb4b-4612-aa5b-34e0817f79dc",
   "metadata": {
    "editable": true,
    "slideshow": {
     "slide_type": "slide"
    },
    "tags": []
   },
   "source": [
    "#### Avec Python REPL"
   ]
  },
  {
   "cell_type": "code",
   "execution_count": null,
   "id": "e8f5469e-5034-4a73-a1e2-f19b6c23acdc",
   "metadata": {
    "editable": true,
    "slideshow": {
     "slide_type": "subslide"
    },
    "tags": []
   },
   "outputs": [],
   "source": [
    "from langchain.agents import create_openai_functions_agent\n",
    "from langchain_experimental.tools import PythonREPLTool\n",
    "\n",
    "tools = [PythonREPLTool()]\n",
    "\n",
    "instructions = \"\"\"You are an agent designed to write and execute python code to answer questions.\n",
    "You have access to a python REPL, which you can use to execute python code.\n",
    "If you get an error, debug your code and try again.\n",
    "Only use the output of your code to answer the question. \n",
    "You might know the answer without running any code, but you should still run the code to get the answer.\n",
    "If it does not seem like you can write code to answer the question, just return \"I don't know\" as the answer.\n",
    "\"\"\"\n",
    "\n",
    "base_prompt = hub.pull(\"langchain-ai/openai-functions-template\")\n",
    "prompt = base_prompt.partial(instructions=instructions)\n",
    "agent = create_openai_functions_agent(ChatOpenAI(temperature=0), tools, prompt)\n",
    "\n",
    "agent_executor = AgentExecutor(agent=agent, tools=tools, verbose=True)"
   ]
  },
  {
   "cell_type": "code",
   "execution_count": null,
   "id": "b8950531-534f-402a-b634-a474c6029525",
   "metadata": {
    "editable": true,
    "slideshow": {
     "slide_type": "subslide"
    },
    "tags": []
   },
   "outputs": [],
   "source": [
    "agent_executor.invoke({\"input\": \"Quel est le millième nombre de Fibonacci ?\"})"
   ]
  },
  {
   "cell_type": "code",
   "execution_count": null,
   "id": "b658b229-7e6f-46f7-95ba-9e09cff78cd8",
   "metadata": {
    "editable": true,
    "slideshow": {
     "slide_type": "subslide"
    },
    "tags": []
   },
   "outputs": [],
   "source": [
    "base_prompt.pretty_print()"
   ]
  },
  {
   "cell_type": "markdown",
   "id": "34c2b8b2-4ebe-4f1a-aec2-0a941ae3f4f7",
   "metadata": {
    "editable": true,
    "slideshow": {
     "slide_type": "slide"
    },
    "tags": []
   },
   "source": [
    "#### Plusieurs outils"
   ]
  },
  {
   "cell_type": "code",
   "execution_count": null,
   "id": "2cb01ef0-a7e7-4d50-9d04-35f46503de2d",
   "metadata": {
    "editable": true,
    "slideshow": {
     "slide_type": "subslide"
    },
    "tags": []
   },
   "outputs": [],
   "source": [
    "from langchain.agents import load_tools, create_react_agent\n",
    "from langchain_openai import OpenAI\n",
    "\n",
    "llm = OpenAI()\n",
    "tools = load_tools([\"llm-math\", \"wikipedia\"], llm=llm)\n",
    "prompt = hub.pull(\"hwchase17/react\")\n",
    "\n",
    "agent = create_react_agent(llm, tools, prompt)\n",
    "agent_executor = AgentExecutor(agent=agent, \n",
    "                               tools=tools, \n",
    "                               handle_parsing_errors=True, \n",
    "                               verbose=True)"
   ]
  },
  {
   "cell_type": "code",
   "execution_count": null,
   "id": "281cf6c1-bb0c-4b45-847d-f404800ae22a",
   "metadata": {
    "editable": true,
    "slideshow": {
     "slide_type": "subslide"
    },
    "tags": []
   },
   "outputs": [],
   "source": [
    "agent_executor.invoke({'input': \"Qu'est-ce que 25% de 300?\"})"
   ]
  },
  {
   "cell_type": "markdown",
   "id": "e93bab48-86d3-43ba-b43e-503d69013b0a",
   "metadata": {
    "editable": true,
    "slideshow": {
     "slide_type": "slide"
    },
    "tags": []
   },
   "source": [
    "### Ses propres outils"
   ]
  },
  {
   "cell_type": "code",
   "execution_count": null,
   "id": "4c6700d8-15cb-4946-83af-a945ed28a613",
   "metadata": {
    "editable": true,
    "slideshow": {
     "slide_type": "subslide"
    },
    "tags": []
   },
   "outputs": [],
   "source": [
    "from langchain_core.tools import tool\n",
    "\n",
    "@tool\n",
    "def multiply(first_int: int, second_int: int) -> int:\n",
    "    \"\"\"Multiplie deux entiers.\"\"\"\n",
    "    return first_int * second_int\n",
    "\n",
    "print(multiply.name)\n",
    "print(multiply.description)\n",
    "print(multiply.args)"
   ]
  },
  {
   "cell_type": "code",
   "execution_count": null,
   "id": "c5432395-1131-407c-82c3-069904e9fba2",
   "metadata": {
    "editable": true,
    "slideshow": {
     "slide_type": "subslide"
    },
    "tags": []
   },
   "outputs": [],
   "source": [
    "@tool\n",
    "def add(first_int: int, second_int: int) -> int:\n",
    "    \"Ajoute deux entiers.\"\n",
    "    return first_int + second_int\n",
    "\n",
    "@tool\n",
    "def exponentiate(base: int, exponent: int) -> int:\n",
    "    \"Calcule la puissance d'un entier donné.\"\n",
    "    return base**exponent"
   ]
  },
  {
   "cell_type": "code",
   "execution_count": null,
   "id": "af28db36-9235-4256-906f-3b9645685cb2",
   "metadata": {
    "editable": true,
    "slideshow": {
     "slide_type": "subslide"
    },
    "tags": []
   },
   "outputs": [],
   "source": [
    "from langchain import hub\n",
    "from langchain.agents import AgentExecutor, create_tool_calling_agent\n",
    "from langchain_openai import ChatOpenAI\n",
    "\n",
    "llm = ChatOpenAI(model_name=\"gpt-4.1\")\n",
    "\n",
    "tools = [multiply, add, exponentiate]\n",
    "prompt = hub.pull(\"hwchase17/openai-tools-agent\")\n",
    "agent = create_tool_calling_agent(llm, tools, prompt)\n",
    "agent_executor = AgentExecutor(agent=agent, tools=tools, verbose=True)\n",
    "agent_executor.invoke(\n",
    "    {\n",
    "        \"input\": \"Porter 3 à la puissance 5 et multiplier le résultat par la somme de douze et de trois, puis élever le tout au carré.\"\n",
    "    }\n",
    ")"
   ]
  },
  {
   "cell_type": "code",
   "execution_count": null,
   "id": "57718046-2846-4ec5-8b77-7098ac55fe81",
   "metadata": {
    "editable": true,
    "slideshow": {
     "slide_type": "subslide"
    },
    "tags": []
   },
   "outputs": [],
   "source": [
    "prompt.pretty_print()"
   ]
  },
  {
   "cell_type": "markdown",
   "id": "6e57b020-d22f-48b1-9bae-110d80e1e376",
   "metadata": {
    "editable": true,
    "slideshow": {
     "slide_type": "slide"
    },
    "tags": []
   },
   "source": [
    "### Assemblage d'agents"
   ]
  },
  {
   "cell_type": "markdown",
   "id": "0712aefa-4e26-4b1e-9ab8-e5d1ba99f8a7",
   "metadata": {
    "editable": true,
    "slideshow": {
     "slide_type": "subslide"
    },
    "tags": []
   },
   "source": [
    "![Texte alternatif](images/promptulate.png \"Promptulate\")"
   ]
  }
 ],
 "metadata": {
  "kernelspec": {
   "display_name": "Python 3 (ipykernel)",
   "language": "python",
   "name": "python3"
  },
  "language_info": {
   "codemirror_mode": {
    "name": "ipython",
    "version": 3
   },
   "file_extension": ".py",
   "mimetype": "text/x-python",
   "name": "python",
   "nbconvert_exporter": "python",
   "pygments_lexer": "ipython3",
   "version": "3.13.3"
  }
 },
 "nbformat": 4,
 "nbformat_minor": 5
}