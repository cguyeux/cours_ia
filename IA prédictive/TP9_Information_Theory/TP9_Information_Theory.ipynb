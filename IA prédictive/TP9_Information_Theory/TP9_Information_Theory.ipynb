{
 "cells": [
  {
   "cell_type": "markdown",
   "id": "e69e054d",
   "metadata": {},
   "source": [
    "# Théorie de l'information et analyse de données tabulaires\n",
    "\n",
    "Dans ce notebook, nous allons introduire progressivement des notions fondamentales de théorie de l'information et montrer comment elles peuvent aider à analyser des données tabulaires. Nous aborderons notamment :\n",
    "\n",
    "- **Entropie** : mesure de l'incertitude d'une variable aléatoire (interprétation en nombre moyen de questions oui/non).\n",
    "- **Codage de Huffman** : un exemple de code binaire optimal illustrant le lien entre entropie et longueur moyenne minimale d'un code/décision.\n",
    "- **Entropie conditionnelle et information mutuelle** \\(H(Y), H(Y \\mid X), I(Y;X)\\) avec estimation empirique par discrétisation des données.\n",
    "- **Application à un jeu de données synthétique** (\"arrivées aux urgences\") : variables explicatives (jour, température, épidémie de grippe...) et variable cible (comptage de patients).\n",
    "- **Modélisation prédictive avec XGBoost (objectif Poisson)** : construction d'un modèle de régression pour prédire le nombre de patients, comparaison de modèles à faible vs forte profondeur.\n",
    "- **Interprétation des résultats** : lien entre entropie et profondeur d'arbre (réduction d'incertitude au fil des splits), rôle informatif de chaque variable via l'information mutuelle et mesure de la réduction d'incertitude (lien avec la divergence de Kullback-Leibler).\n",
    "\n",
    "Chaque section comprend des explications pédagogiques et du code Python exécutable illustrant les concepts (calculs d'entropie, construction d'arbres, entraînement XGBoost...). Des visualisations et sorties chiffrées aideront à interpréter les résultats. Enfin, un TP \"À vous de jouer\" vous proposera des manipulations pour explorer les effets de ces notions sur d'autres jeux de données ou paramètres."
   ]
  },
  {
   "cell_type": "markdown",
   "id": "18f49693",
   "metadata": {},
   "source": [
    "## 1. Entropie : mesurer l'incertitude d'une variable aléatoire\n",
    "\n",
    "**Définition.** L'entropie \\(H(X)\\) d'une variable aléatoire discrète \\(X\\) mesure l'incertitude moyenne associée à \\(X\\). Mathématiquement, pour une distribution prenant des valeurs \\(x_i\\) avec probabilités \\(p_i = P(X = x_i)\\), l'entropie se définit par :\n",
    "\n",
    "\\[\n",
    "H(X) = - \\sum_i p_i \\log_2(p_i).\n",
    "\\]\n",
    "\n",
    "L'unité est le **bit** si l'on utilise le logarithme en base 2. Intuitivement, l'entropie correspond au nombre moyen de questions oui/non qu'un observateur doit poser pour deviner la valeur de \\(X\\). Plus \\(X\\) est imprévisible (distribution uniforme par exemple), plus son entropie est élevée. À l'inverse, si \\(X\\) prend toujours la même valeur, son entropie est nulle (aucune incertitude)."
   ]
  },
  {
   "cell_type": "markdown",
   "id": "9afd6f27",
   "metadata": {},
   "source": [
    "### Exemples simples\n",
    "\n",
    "- Une pièce équilibrée (pile ou face équiprobables) a une entropie de **1 bit**, car une question oui/non suffit en moyenne à deviner l'issue.\n",
    "- Une pièce biaisée (qui tombe face 70 % du temps) a une entropie plus faible : l'incertitude est partiellement réduite car une issue est favorisée.\n",
    "- Un dé à 6 faces équilibré a une entropie plus élevée (~2.585 bits), car il y a 6 issues équiprobables.\n",
    "- Un dé biaisé (40 % une face, 20 % une autre, le reste à 10 %) présente une entropie intermédiaire.\n",
    "\n",
    "Calculons ces entropies avec Python."
   ]
  },
  {
   "cell_type": "code",
   "execution_count": 1,
   "id": "a2e1ec06",
   "metadata": {
    "execution": {
     "iopub.execute_input": "2025-10-15T09:17:18.567808Z",
     "iopub.status.busy": "2025-10-15T09:17:18.567597Z",
     "iopub.status.idle": "2025-10-15T09:17:18.607564Z",
     "shell.execute_reply": "2025-10-15T09:17:18.606741Z"
    }
   },
   "outputs": [
    {
     "name": "stdout",
     "output_type": "stream",
     "text": [
      "Entropie pièce équilibrée   : 1.0 bits\n",
      "Entropie pièce biaisée 70/30 : 0.8812908992306927 bits\n",
      "Entropie dé équilibré        : 2.584962500721156 bits\n",
      "Entropie dé biaisé           : 2.321928094887362 bits\n"
     ]
    }
   ],
   "source": [
    "import numpy as np\n",
    "\n",
    "def entropy(p_dist: np.ndarray) -> float:\n",
    "    \"\"\"Calcule l'entropie en bits d'une distribution de probabilités.\"\"\"\n",
    "    p = np.array(p_dist, dtype=float)\n",
    "    p = p[p > 0]  # ignore les probabilités nulles pour éviter log(0)\n",
    "    return float(-np.sum(p * np.log2(p)))\n",
    "\n",
    "coin_fair = [0.5, 0.5]\n",
    "coin_biased = [0.7, 0.3]\n",
    "dice_fair = [1/6] * 6\n",
    "dice_biased = [0.4, 0.2, 0.1, 0.1, 0.1, 0.1]\n",
    "\n",
    "print(\"Entropie pièce équilibrée   :\", entropy(coin_fair), \"bits\")\n",
    "print(\"Entropie pièce biaisée 70/30 :\", entropy(coin_biased), \"bits\")\n",
    "print(\"Entropie dé équilibré        :\", entropy(dice_fair), \"bits\")\n",
    "print(\"Entropie dé biaisé           :\", entropy(dice_biased), \"bits\")"
   ]
  },
  {
   "cell_type": "markdown",
   "id": "65d4dd62",
   "metadata": {},
   "source": [
    "### Lecture des résultats\n",
    "\n",
    "- **Pièce équilibrée** : ~1.0 bit (maximum pour deux issues équiprobables).\n",
    "- **Pièce biaisée 70/30** : ~0.881 bit (incertitude réduite car une issue est favorisée).\n",
    "- **Dé équilibré** : ~2.585 bits (incertitude maximale pour six issues équiprobables).\n",
    "- **Dé biaisé** : ~2.322 bits (plus petit que le dé uniforme car certaines issues sont privilégiées).\n",
    "\n",
    "> **À retenir :** l'entropie décroît dès que la distribution devient inégale, car il est plus facile de deviner l'issue. L'entropie atteint 0 bit dans les cas extrêmes où l'issue est certaine d'avance.\n",
    "\n",
    "Dans la suite du notebook, nous prolongerons ces notions avec l'entropie conditionnelle, l'information mutuelle et leur utilisation pratique pour analyser des données tabulaires."
   ]
  },
  {
   "cell_type": "markdown",
   "id": "b3fda089",
   "metadata": {},
   "source": [
    "### Entropie maximale et minimale\n",
    "\n",
    "Pour \\(n\\) issues possibles, l'entropie maximale est \\(\\log_2(n)\\) bits, atteinte lorsque les \\(n\\) issues sont équiprobables. L'entropie minimale est 0 bit, lorsque l'une des issues a probabilité 1 (distribution dégénérée)."
   ]
  },
  {
   "cell_type": "markdown",
   "id": "d949a35e",
   "metadata": {},
   "source": [
    "## 2. Code de Huffman : entropie et longueur moyenne d'un code optimal\n",
    "\n",
    "L'entropie \\(H(X)\\) représente une **limite théorique** (souvent fractionnaire) du nombre de bits nécessaires en moyenne pour coder les valeurs de \\(X\\). Shannon a montré que l'on peut compresser sans perte l'information émise par une source \\(X\\) jusqu'à environ \\(H(X)\\) bits par symbole en moyenne (théorème du codage de source). Cependant, on ne peut pas descendre en dessous de \\(H(X)\\) en moyenne.\n",
    "\n",
    "Le **code de Huffman** est un algorithme de compression sans perte qui produit un code binaire à longueur variable optimal pour une distribution donnée. « Optimal » signifie que la longueur moyenne du code obtenu est la plus petite possible parmi tous les codes préfixes (décodables sans ambiguïté) pour cette distribution. Ce code sert d'illustration concrète : il atteint une longueur moyenne très proche de l'entropie de la source (toujours entre \\(H(X)\\) et \\(H(X)+1\\) en moyenne).\n",
    "\n",
    "**Principe du codage de Huffman.** On attribue des codes binaires plus courts aux symboles les plus probables, et des codes plus longs aux symboles rares. L'algorithme fusionne itérativement les symboles les moins probables pour construire un arbre binaire optimal. Chaque feuille de l'arbre correspond à un symbole, et le chemin depuis la racine (0/1 à chaque branche) forme le code binaire de ce symbole.\n",
    "\n",
    "Illustrons le codage de Huffman sur un petit exemple. Supposons une variable \\(X\\) prenant 4 symboles \\(\\{A, B, C, D\\}\\) de probabilités respectives \\(p(A)=0.4\\), \\(p(B)=0.3\\), \\(p(C)=0.2\\), \\(p(D)=0.1\\)."
   ]
  },
  {
   "cell_type": "code",
   "execution_count": 2,
   "id": "82a622b9",
   "metadata": {
    "execution": {
     "iopub.execute_input": "2025-10-15T09:17:18.609475Z",
     "iopub.status.busy": "2025-10-15T09:17:18.609116Z",
     "iopub.status.idle": "2025-10-15T09:17:18.611893Z",
     "shell.execute_reply": "2025-10-15T09:17:18.611428Z"
    }
   },
   "outputs": [
    {
     "name": "stdout",
     "output_type": "stream",
     "text": [
      "Entropie H(X) = 1.8464393446710154 bits\n"
     ]
    }
   ],
   "source": [
    "probs = [0.4, 0.3, 0.2, 0.1]\n",
    "H_X = entropy(probs)\n",
    "print(\"Entropie H(X) =\", H_X, \"bits\")"
   ]
  },
  {
   "cell_type": "code",
   "execution_count": 3,
   "id": "2306912c",
   "metadata": {
    "execution": {
     "iopub.execute_input": "2025-10-15T09:17:18.613290Z",
     "iopub.status.busy": "2025-10-15T09:17:18.613175Z",
     "iopub.status.idle": "2025-10-15T09:17:18.616928Z",
     "shell.execute_reply": "2025-10-15T09:17:18.616674Z"
    }
   },
   "outputs": [
    {
     "name": "stdout",
     "output_type": "stream",
     "text": [
      "Codes de Huffman :\n",
      " Symbole A: code = 0 (longueur 1)\n",
      " Symbole B: code = 10 (longueur 2)\n",
      " Symbole C: code = 111 (longueur 3)\n",
      " Symbole D: code = 110 (longueur 3)\n",
      "Longueur moyenne L = 1.900 bits, Entropie H(X) = 1.846 bits\n"
     ]
    }
   ],
   "source": [
    "import heapq\n",
    "from typing import Dict, Iterable, List, Optional\n",
    "\n",
    "def huffman_codes(probabilities: Iterable[float], symbols: Optional[List[str]] = None) -> Dict[str, str]:\n",
    "    # Construit un code de Huffman pour la liste de probabilités donnée.\n",
    "    probabilities = list(probabilities)\n",
    "    n = len(probabilities)\n",
    "    if symbols is None:\n",
    "        symbols = [chr(65 + i) for i in range(n)]\n",
    "    heap = [(p, [s]) for p, s in zip(probabilities, symbols)]\n",
    "    heapq.heapify(heap)\n",
    "    codes = {s: '' for s in symbols}\n",
    "    while len(heap) > 1:\n",
    "        p1, sym1 = heapq.heappop(heap)\n",
    "        p2, sym2 = heapq.heappop(heap)\n",
    "        for s in sym1:\n",
    "            codes[s] = '0' + codes[s]\n",
    "        for s in sym2:\n",
    "            codes[s] = '1' + codes[s]\n",
    "        heapq.heappush(heap, (p1 + p2, sym1 + sym2))\n",
    "    return codes\n",
    "\n",
    "symbols = ['A', 'B', 'C', 'D']\n",
    "codes = huffman_codes(probs, symbols)\n",
    "\n",
    "print('Codes de Huffman :')\n",
    "L_moy = 0\n",
    "for s, p in zip(symbols, probs):\n",
    "    code = codes[s]\n",
    "    L_moy += len(code) * p\n",
    "    print(f\" Symbole {s}: code = {code} (longueur {len(code)})\")\n",
    "\n",
    "print(f\"Longueur moyenne L = {L_moy:.3f} bits, Entropie H(X) = {H_X:.3f} bits\")"
   ]
  },
  {
   "cell_type": "markdown",
   "id": "c13e1133",
   "metadata": {},
   "source": [
    "On constate que l'entropie \\(H(X) \u0007pprox 1.846\\) bits est un plancher théorique : la longueur moyenne du code optimal est légèrement supérieure (\\(L \u0007pprox 1.90\\) bits). Plus la distribution est déséquilibrée, plus \\(H(X)\\) est faible et plus on gagne à utiliser un code variable. À l'extrême, si \\(p(A)=1\\), on aurait \\(H(X)=0\\) bit et Huffman attribuerait le code vide à \\(A\\) (aucune incertitude).\n",
    "\n",
    "En résumé, l'entropie quantifie l'information moyenne d'une variable, et les codes de longueur minimale (comme Huffman) réalisent en pratique cette compression de l'information. Un arbre de décision binaire optimal (posant des questions oui/non) aura une profondeur moyenne égale à l'entropie de la variable à deviner, dans le cas idéal.\n",
    "\n",
    "---\n",
    "\n",
    "## 3. Entropie conditionnelle et information mutuelle\n",
    "\n",
    "Jusqu'ici, nous avons traité une seule variable. En data science, on étudie souvent la relation entre une **variable cible** \\(Y\\) et des **variables explicatives** \\(X\\). La théorie de l'information fournit des mesures pour quantifier ces relations.\n",
    "\n",
    "**Entropie conjointe et conditionnelle.** Si l'on considère deux variables \\(X\\) et \\(Y\\), on peut définir l'entropie conjointe \\(H(X,Y)\\) sur leur distribution commune, et l'entropie conditionnelle de \\(Y\\) sachant \\(X\\). L'entropie conditionnelle \\(H(Y \\mid X)\\) représente l'incertitude qui reste sur \\(Y\\) quand on connaît la valeur de \\(X\\). Formulée en probabilités :\n",
    "\n",
    "\\[\n",
    "H(Y \\mid X) = \\sum_x P(X = x) \\, H(Y \\mid X = x).\n",
    "\\]\n",
    "\n",
    "C'est la moyenne (pondérée par \\(P(X=x)\\)) des entropies de \\(Y\\) dans chaque sous-population où \\(X=x\\). On a toujours \\(H(Y \\mid X) \\le H(Y)\\) : connaître \\(X\\) ne peut pas augmenter l'incertitude sur \\(Y\\) (au pire, \\(X\\) est indépendant de \\(Y\\) et on n'enlève aucune incertitude, \\(H(Y \\mid X)=H(Y)\\)).\n",
    "\n",
    "**Information mutuelle.** L'information mutuelle \\(I(X;Y)\\) mesure la réduction d'incertitude sur \\(Y\\) apportée par la connaissance de \\(X\\) (et réciproquement, c'est symétrique). C'est une mesure de la **dépendance statistique** entre \\(X\\) et \\(Y\\). On peut la définir de plusieurs façons équivalentes, notamment :\n",
    "\n",
    "\\[\n",
    "I(X;Y) = H(Y) - H(Y \\mid X) = H(X) - H(X \\mid Y).\n",
    "\\]\n",
    "\n",
    "Autrement dit, \\(I(X;Y)\\) est l'entropie de \\(Y\\) dont on a été débarrassé en connaissant \\(X\\). Si \\(X\\) et \\(Y\\) sont indépendants, connaître \\(X\\) n'apprend rien sur \\(Y\\) et l'information mutuelle est nulle. À l'inverse, si \\(X\\) détermine parfaitement \\(Y\\), l'incertitude sur \\(Y\\) tombe à 0 avec \\(X\\) et l'information mutuelle égale l'entropie \\(H(Y)\\) entière.\n",
    "\n",
    "Ces notions seront utiles pour analyser des jeux de données tabulaires : elles généralisent l'idée de « gain d'information » utilisé dans les arbres de décision et permettent de détecter des dépendances non linéaires entre variables. Dans la section suivante, nous les mettrons en pratique sur un jeu de données synthétique."
   ]
  }
 ],
 "metadata": {
  "kernelspec": {
   "display_name": "Python 3",
   "name": "python3"
  },
  "language_info": {
   "codemirror_mode": {
    "name": "ipython",
    "version": 3
   },
   "file_extension": ".py",
   "mimetype": "text/x-python",
   "name": "python",
   "nbconvert_exporter": "python",
   "pygments_lexer": "ipython3",
   "version": "3.13.3"
  }
 },
 "nbformat": 4,
 "nbformat_minor": 5
}
