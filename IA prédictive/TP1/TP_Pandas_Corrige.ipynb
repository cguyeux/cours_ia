{
 "cells": [
  {
   "cell_type": "markdown",
   "id": "67d40465",
   "metadata": {},
   "source": [
    "# TP Pandas — Corrigé (Dataset Iris)\n",
    "\n",
    "Ce corrigé charge le dataset Iris via scikit-learn, réalise des manipulations pandas et génère des graphiques **avec matplotlib uniquement**."
   ]
  },
  {
   "cell_type": "markdown",
   "id": "8c947657",
   "metadata": {},
   "source": [
    "## Chargement des données"
   ]
  },
  {
   "cell_type": "code",
   "execution_count": 4,
   "id": "c8d71df9",
   "metadata": {},
   "outputs": [
    {
     "name": "stdout",
     "output_type": "stream",
     "text": [
      "<class 'sklearn.utils._bunch.Bunch'>\n",
      "dict_keys(['data', 'target', 'frame', 'target_names', 'DESCR', 'feature_names', 'filename', 'data_module'])\n",
      "[0 0 0 0 0 0 0 0 0 0 0 0 0 0 0 0 0 0 0 0 0 0 0 0 0 0 0 0 0 0 0 0 0 0 0 0 0\n",
      " 0 0 0 0 0 0 0 0 0 0 0 0 0 1 1 1 1 1 1 1 1 1 1 1 1 1 1 1 1 1 1 1 1 1 1 1 1\n",
      " 1 1 1 1 1 1 1 1 1 1 1 1 1 1 1 1 1 1 1 1 1 1 1 1 1 1 2 2 2 2 2 2 2 2 2 2 2\n",
      " 2 2 2 2 2 2 2 2 2 2 2 2 2 2 2 2 2 2 2 2 2 2 2 2 2 2 2 2 2 2 2 2 2 2 2 2 2\n",
      " 2 2]\n"
     ]
    }
   ],
   "source": [
    "\n",
    "import matplotlib.pyplot as plt\n",
    "from sklearn.datasets import load_iris\n",
    "\n",
    "iris = load_iris()\n",
    "print(type(iris))\n",
    "print(iris.keys())\n",
    "print(iris['target'])\n"
   ]
  },
  {
   "cell_type": "code",
   "execution_count": 8,
   "id": "fd13915d",
   "metadata": {},
   "outputs": [
    {
     "data": {
      "text/plain": [
       "['sepal length (cm)',\n",
       " 'sepal width (cm)',\n",
       " 'petal length (cm)',\n",
       " 'petal width (cm)']"
      ]
     },
     "execution_count": 8,
     "metadata": {},
     "output_type": "execute_result"
    }
   ],
   "source": [
    "iris['feature_names']"
   ]
  },
  {
   "cell_type": "code",
   "execution_count": 17,
   "id": "8f0fac39",
   "metadata": {},
   "outputs": [
    {
     "data": {
      "text/plain": [
       "array(['setosa', 'versicolor', 'virginica'], dtype='<U10')"
      ]
     },
     "execution_count": 17,
     "metadata": {},
     "output_type": "execute_result"
    }
   ],
   "source": [
    "iris['target_names']"
   ]
  },
  {
   "cell_type": "code",
   "execution_count": 2,
   "id": "c641ceea",
   "metadata": {},
   "outputs": [
    {
     "name": "stdout",
     "output_type": "stream",
     "text": [
      "   sepal length (cm)  sepal width (cm)  petal length (cm)  petal width (cm)\n",
      "0                5.1               3.5                1.4               0.2\n",
      "1                4.9               3.0                1.4               0.2\n",
      "2                4.7               3.2                1.3               0.2\n",
      "3                4.6               3.1                1.5               0.2\n",
      "4                5.0               3.6                1.4               0.2\n"
     ]
    },
    {
     "data": {
      "text/html": [
       "<div>\n",
       "<style scoped>\n",
       "    .dataframe tbody tr th:only-of-type {\n",
       "        vertical-align: middle;\n",
       "    }\n",
       "\n",
       "    .dataframe tbody tr th {\n",
       "        vertical-align: top;\n",
       "    }\n",
       "\n",
       "    .dataframe thead th {\n",
       "        text-align: right;\n",
       "    }\n",
       "</style>\n",
       "<table border=\"1\" class=\"dataframe\">\n",
       "  <thead>\n",
       "    <tr style=\"text-align: right;\">\n",
       "      <th></th>\n",
       "      <th>sepal length (cm)</th>\n",
       "      <th>sepal width (cm)</th>\n",
       "      <th>petal length (cm)</th>\n",
       "      <th>petal width (cm)</th>\n",
       "      <th>species</th>\n",
       "    </tr>\n",
       "  </thead>\n",
       "  <tbody>\n",
       "    <tr>\n",
       "      <th>0</th>\n",
       "      <td>5.1</td>\n",
       "      <td>3.5</td>\n",
       "      <td>1.4</td>\n",
       "      <td>0.2</td>\n",
       "      <td>setosa</td>\n",
       "    </tr>\n",
       "    <tr>\n",
       "      <th>1</th>\n",
       "      <td>4.9</td>\n",
       "      <td>3.0</td>\n",
       "      <td>1.4</td>\n",
       "      <td>0.2</td>\n",
       "      <td>setosa</td>\n",
       "    </tr>\n",
       "    <tr>\n",
       "      <th>2</th>\n",
       "      <td>4.7</td>\n",
       "      <td>3.2</td>\n",
       "      <td>1.3</td>\n",
       "      <td>0.2</td>\n",
       "      <td>setosa</td>\n",
       "    </tr>\n",
       "    <tr>\n",
       "      <th>3</th>\n",
       "      <td>4.6</td>\n",
       "      <td>3.1</td>\n",
       "      <td>1.5</td>\n",
       "      <td>0.2</td>\n",
       "      <td>setosa</td>\n",
       "    </tr>\n",
       "    <tr>\n",
       "      <th>4</th>\n",
       "      <td>5.0</td>\n",
       "      <td>3.6</td>\n",
       "      <td>1.4</td>\n",
       "      <td>0.2</td>\n",
       "      <td>setosa</td>\n",
       "    </tr>\n",
       "  </tbody>\n",
       "</table>\n",
       "</div>"
      ],
      "text/plain": [
       "   sepal length (cm)  sepal width (cm)  petal length (cm)  petal width (cm)  \\\n",
       "0                5.1               3.5                1.4               0.2   \n",
       "1                4.9               3.0                1.4               0.2   \n",
       "2                4.7               3.2                1.3               0.2   \n",
       "3                4.6               3.1                1.5               0.2   \n",
       "4                5.0               3.6                1.4               0.2   \n",
       "\n",
       "  species  \n",
       "0  setosa  \n",
       "1  setosa  \n",
       "2  setosa  \n",
       "3  setosa  \n",
       "4  setosa  "
      ]
     },
     "execution_count": 2,
     "metadata": {},
     "output_type": "execute_result"
    }
   ],
   "source": [
    "import pandas as pd\n",
    "\n",
    "df = pd.DataFrame(iris.data, columns=iris['feature_names'])\n",
    "print(df.head())\n",
    "df['species'] = [iris.target_names[k] for k in iris.target]\n",
    "df.head()"
   ]
  },
  {
   "cell_type": "markdown",
   "id": "33b22705",
   "metadata": {},
   "source": [
    "## Dimensions et statistiques"
   ]
  },
  {
   "cell_type": "code",
   "execution_count": 28,
   "id": "1703db64",
   "metadata": {},
   "outputs": [
    {
     "name": "stdout",
     "output_type": "stream",
     "text": [
      "Shape: (150, 5)\n",
      "\n",
      "<class 'pandas.core.frame.DataFrame'>\n",
      "RangeIndex: 150 entries, 0 to 149\n",
      "Data columns (total 5 columns):\n",
      " #   Column             Non-Null Count  Dtype  \n",
      "---  ------             --------------  -----  \n",
      " 0   sepal length (cm)  150 non-null    float64\n",
      " 1   sepal width (cm)   150 non-null    float64\n",
      " 2   petal length (cm)  150 non-null    float64\n",
      " 3   petal width (cm)   150 non-null    float64\n",
      " 4   species            150 non-null    object \n",
      "dtypes: float64(4), object(1)\n",
      "memory usage: 6.0+ KB\n",
      "None\n",
      "\n",
      "sepal length (cm)    float64\n",
      "sepal width (cm)     float64\n",
      "petal length (cm)    float64\n",
      "petal width (cm)     float64\n",
      "species               object\n",
      "dtype: object\n",
      "\n"
     ]
    },
    {
     "data": {
      "text/html": [
       "<div>\n",
       "<style scoped>\n",
       "    .dataframe tbody tr th:only-of-type {\n",
       "        vertical-align: middle;\n",
       "    }\n",
       "\n",
       "    .dataframe tbody tr th {\n",
       "        vertical-align: top;\n",
       "    }\n",
       "\n",
       "    .dataframe thead th {\n",
       "        text-align: right;\n",
       "    }\n",
       "</style>\n",
       "<table border=\"1\" class=\"dataframe\">\n",
       "  <thead>\n",
       "    <tr style=\"text-align: right;\">\n",
       "      <th></th>\n",
       "      <th>sepal length (cm)</th>\n",
       "      <th>sepal width (cm)</th>\n",
       "      <th>petal length (cm)</th>\n",
       "      <th>petal width (cm)</th>\n",
       "    </tr>\n",
       "  </thead>\n",
       "  <tbody>\n",
       "    <tr>\n",
       "      <th>count</th>\n",
       "      <td>150.000000</td>\n",
       "      <td>150.000000</td>\n",
       "      <td>150.000000</td>\n",
       "      <td>150.000000</td>\n",
       "    </tr>\n",
       "    <tr>\n",
       "      <th>mean</th>\n",
       "      <td>5.843333</td>\n",
       "      <td>3.057333</td>\n",
       "      <td>3.758000</td>\n",
       "      <td>1.199333</td>\n",
       "    </tr>\n",
       "    <tr>\n",
       "      <th>std</th>\n",
       "      <td>0.828066</td>\n",
       "      <td>0.435866</td>\n",
       "      <td>1.765298</td>\n",
       "      <td>0.762238</td>\n",
       "    </tr>\n",
       "    <tr>\n",
       "      <th>min</th>\n",
       "      <td>4.300000</td>\n",
       "      <td>2.000000</td>\n",
       "      <td>1.000000</td>\n",
       "      <td>0.100000</td>\n",
       "    </tr>\n",
       "    <tr>\n",
       "      <th>25%</th>\n",
       "      <td>5.100000</td>\n",
       "      <td>2.800000</td>\n",
       "      <td>1.600000</td>\n",
       "      <td>0.300000</td>\n",
       "    </tr>\n",
       "    <tr>\n",
       "      <th>50%</th>\n",
       "      <td>5.800000</td>\n",
       "      <td>3.000000</td>\n",
       "      <td>4.350000</td>\n",
       "      <td>1.300000</td>\n",
       "    </tr>\n",
       "    <tr>\n",
       "      <th>75%</th>\n",
       "      <td>6.400000</td>\n",
       "      <td>3.300000</td>\n",
       "      <td>5.100000</td>\n",
       "      <td>1.800000</td>\n",
       "    </tr>\n",
       "    <tr>\n",
       "      <th>max</th>\n",
       "      <td>7.900000</td>\n",
       "      <td>4.400000</td>\n",
       "      <td>6.900000</td>\n",
       "      <td>2.500000</td>\n",
       "    </tr>\n",
       "  </tbody>\n",
       "</table>\n",
       "</div>"
      ],
      "text/plain": [
       "       sepal length (cm)  sepal width (cm)  petal length (cm)  \\\n",
       "count         150.000000        150.000000         150.000000   \n",
       "mean            5.843333          3.057333           3.758000   \n",
       "std             0.828066          0.435866           1.765298   \n",
       "min             4.300000          2.000000           1.000000   \n",
       "25%             5.100000          2.800000           1.600000   \n",
       "50%             5.800000          3.000000           4.350000   \n",
       "75%             6.400000          3.300000           5.100000   \n",
       "max             7.900000          4.400000           6.900000   \n",
       "\n",
       "       petal width (cm)  \n",
       "count        150.000000  \n",
       "mean           1.199333  \n",
       "std            0.762238  \n",
       "min            0.100000  \n",
       "25%            0.300000  \n",
       "50%            1.300000  \n",
       "75%            1.800000  \n",
       "max            2.500000  "
      ]
     },
     "execution_count": 28,
     "metadata": {},
     "output_type": "execute_result"
    }
   ],
   "source": [
    "\n",
    "# Afficher shape, info et describe\n",
    "print(\"Shape:\", df.shape)\n",
    "print()\n",
    "print(df.info())\n",
    "print()\n",
    "print(df.dtypes)\n",
    "print()\n",
    "df.describe()\n"
   ]
  },
  {
   "cell_type": "markdown",
   "id": "bf9c413a",
   "metadata": {},
   "source": [
    "## Renommer les colonnes"
   ]
  },
  {
   "cell_type": "code",
   "execution_count": null,
   "id": "223be3f7",
   "metadata": {},
   "outputs": [],
   "source": [
    "\n",
    "df = df.rename(columns={\n",
    "    \"sepal length (cm)\": \"SepalLengthCm\",\n",
    "    \"sepal width (cm)\": \"SepalWidthCm\",\n",
    "    \"petal length (cm)\": \"PetalLengthCm\",\n",
    "    \"petal width (cm)\": \"PetalWidthCm\",\n",
    "    \"species\": \"Species\"\n",
    "})\n",
    "df.head()\n"
   ]
  },
  {
   "cell_type": "markdown",
   "id": "9f3d9ab7",
   "metadata": {},
   "source": [
    "## Ajouter des colonnes"
   ]
  },
  {
   "cell_type": "code",
   "execution_count": null,
   "id": "d9219336",
   "metadata": {},
   "outputs": [],
   "source": [
    "\n",
    "df[\"PetalRatio\"] = df[\"PetalLengthCm\"] / df[\"PetalWidthCm\"]\n",
    "df[\"SepalArea\"] = df[\"SepalLengthCm\"] * df[\"SepalWidthCm\"]\n",
    "df.head()\n"
   ]
  },
  {
   "cell_type": "markdown",
   "id": "76d6ea8e",
   "metadata": {},
   "source": [
    "## Supprimer une colonne"
   ]
  },
  {
   "cell_type": "code",
   "execution_count": null,
   "id": "543c290e",
   "metadata": {},
   "outputs": [],
   "source": [
    "\n",
    "# Exemple : on supprime SepalArea si on ne l'utilise plus\n",
    "df = df.drop(columns=[\"SepalArea\"])\n",
    "df.head()\n"
   ]
  },
  {
   "cell_type": "markdown",
   "id": "b33a5b99",
   "metadata": {},
   "source": [
    "## Supprimer des lignes"
   ]
  },
  {
   "cell_type": "code",
   "execution_count": null,
   "id": "1c9bbddc",
   "metadata": {},
   "outputs": [],
   "source": [
    "\n",
    "df = df[df[\"SepalLengthCm\"] >= 5.0]\n",
    "df.shape\n"
   ]
  },
  {
   "cell_type": "markdown",
   "id": "1eabbd19",
   "metadata": {},
   "source": [
    "## Filtrer l'espèce 'setosa'"
   ]
  },
  {
   "cell_type": "code",
   "execution_count": null,
   "id": "e4ba793d",
   "metadata": {},
   "outputs": [],
   "source": [
    "\n",
    "df_setosa = df[df[\"Species\"] == \"setosa\"]\n",
    "df_setosa.head()\n"
   ]
  },
  {
   "cell_type": "markdown",
   "id": "b489ad62",
   "metadata": {},
   "source": [
    "## Comptage par espèce"
   ]
  },
  {
   "cell_type": "code",
   "execution_count": null,
   "id": "cb8d1fc0",
   "metadata": {},
   "outputs": [],
   "source": [
    "\n",
    "counts = df[\"Species\"].value_counts()\n",
    "counts\n"
   ]
  },
  {
   "cell_type": "markdown",
   "id": "5495034e",
   "metadata": {},
   "source": [
    "## Visualisations (matplotlib)"
   ]
  },
  {
   "cell_type": "code",
   "execution_count": null,
   "id": "f45ea05d",
   "metadata": {},
   "outputs": [],
   "source": [
    "\n",
    "# 1) Histogramme - SepalLengthCm\n",
    "plt.figure()\n",
    "plt.hist(df[\"SepalLengthCm\"], bins=15)\n",
    "plt.title(\"Histogramme — SepalLengthCm\")\n",
    "plt.xlabel(\"SepalLengthCm\")\n",
    "plt.ylabel(\"Fréquence\")\n",
    "plt.tight_layout()\n",
    "plt.show()\n"
   ]
  },
  {
   "cell_type": "code",
   "execution_count": null,
   "id": "9c52fc46",
   "metadata": {},
   "outputs": [],
   "source": [
    "\n",
    "# 2) Nuage de points - SepalLengthCm vs PetalLengthCm\n",
    "plt.figure()\n",
    "plt.scatter(df[\"SepalLengthCm\"], df[\"PetalLengthCm\"])\n",
    "plt.title(\"Scatter — SepalLengthCm vs PetalLengthCm\")\n",
    "plt.xlabel(\"SepalLengthCm\")\n",
    "plt.ylabel(\"PetalLengthCm\")\n",
    "plt.tight_layout()\n",
    "plt.show()\n"
   ]
  },
  {
   "cell_type": "code",
   "execution_count": null,
   "id": "d93bede9",
   "metadata": {},
   "outputs": [],
   "source": [
    "\n",
    "# 3) Boxplot de PetalLengthCm par espèce\n",
    "species_list = sorted(df[\"Species\"].unique())\n",
    "data_by_species = [df[df[\"Species\"] == sp][\"PetalLengthCm\"].values for sp in species_list]\n",
    "\n",
    "plt.figure()\n",
    "plt.boxplot(data_by_species, labels=species_list)\n",
    "plt.title(\"Boxplot — PetalLengthCm par espèce\")\n",
    "plt.xlabel(\"Espèce\")\n",
    "plt.ylabel(\"PetalLengthCm\")\n",
    "plt.tight_layout()\n",
    "plt.show()\n"
   ]
  },
  {
   "cell_type": "code",
   "execution_count": null,
   "id": "8b09be4f",
   "metadata": {},
   "outputs": [],
   "source": [
    "\n",
    "# 4) Diagramme en barres — Nombre d'occurrences par espèce\n",
    "plt.figure()\n",
    "plt.bar(counts.index, counts.values)\n",
    "plt.title(\"Comptage par espèce\")\n",
    "plt.xlabel(\"Espèce\")\n",
    "plt.ylabel(\"Effectif\")\n",
    "plt.tight_layout()\n",
    "plt.show()\n"
   ]
  }
 ],
 "metadata": {
  "kernelspec": {
   "display_name": "but3",
   "language": "python",
   "name": "python3"
  },
  "language_info": {
   "codemirror_mode": {
    "name": "ipython",
    "version": 3
   },
   "file_extension": ".py",
   "mimetype": "text/x-python",
   "name": "python",
   "nbconvert_exporter": "python",
   "pygments_lexer": "ipython3",
   "version": "3.13.0"
  }
 },
 "nbformat": 4,
 "nbformat_minor": 5
}
